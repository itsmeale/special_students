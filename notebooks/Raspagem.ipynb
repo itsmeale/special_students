{
 "cells": [
  {
   "cell_type": "markdown",
   "id": "alien-exposure",
   "metadata": {},
   "source": [
    "# Raspagem de dados do pdf"
   ]
  },
  {
   "cell_type": "code",
   "execution_count": 2,
   "id": "favorite-destination",
   "metadata": {},
   "outputs": [],
   "source": [
    "from typing import List\n",
    "\n",
    "import tabula\n",
    "import pandas as pd"
   ]
  },
  {
   "cell_type": "code",
   "execution_count": 3,
   "id": "subsequent-mustang",
   "metadata": {},
   "outputs": [],
   "source": [
    "PDF_PATH: str = \"../data/raw/ResultadoAE20211.pdf\""
   ]
  },
  {
   "cell_type": "code",
   "execution_count": 4,
   "id": "specialized-mixer",
   "metadata": {},
   "outputs": [],
   "source": [
    "dfs = tabula.io.read_pdf(PDF_PATH, pages=\"all\", pandas_options={\"header\": None})"
   ]
  },
  {
   "cell_type": "code",
   "execution_count": 5,
   "id": "cooked-calculation",
   "metadata": {},
   "outputs": [
    {
     "data": {
      "text/plain": [
       "12"
      ]
     },
     "execution_count": 5,
     "metadata": {},
     "output_type": "execute_result"
    }
   ],
   "source": [
    "len(dfs)"
   ]
  },
  {
   "cell_type": "code",
   "execution_count": 6,
   "id": "intimate-justice",
   "metadata": {},
   "outputs": [
    {
     "name": "stdout",
     "output_type": "stream",
     "text": [
      "(40, 2)\n",
      "(52, 4)\n",
      "(52, 4)\n",
      "(52, 4)\n",
      "(52, 4)\n",
      "(52, 4)\n",
      "(52, 4)\n",
      "(52, 4)\n",
      "(52, 4)\n",
      "(52, 4)\n",
      "(52, 4)\n",
      "(47, 4)\n"
     ]
    }
   ],
   "source": [
    "for df in dfs:\n",
    "    print(df.shape)"
   ]
  },
  {
   "cell_type": "code",
   "execution_count": 7,
   "id": "fatal-basketball",
   "metadata": {},
   "outputs": [],
   "source": [
    "# o primeiro dataframe vem quebrado em duas colunas\n",
    "# precisamos eliminar as 3 primeiras linhas\n",
    "# realizar um split na primeira coluna\n",
    "# e enfim concatenar todos os dataframes"
   ]
  },
  {
   "cell_type": "code",
   "execution_count": 8,
   "id": "stuck-corps",
   "metadata": {},
   "outputs": [],
   "source": [
    "def _preprocess_df_0(df: pd.DataFrame) -> pd.DataFrame:\n",
    "    df = df.iloc[3:, :].rename(columns={1: \"disciplinas\"})\n",
    "    df[[1, 2, 3]] = df[\"disciplinas\"].str.split(\" \", expand=True)\n",
    "    return df.drop(columns=[\"disciplinas\"])\n",
    "    \n",
    "\n",
    "def preprocess_dfs(dfs: List[pd.DataFrame]) -> pd.DataFrame:\n",
    "    df = pd.concat([_preprocess_df_0(dfs[0])] + dfs[1:])\n",
    "    df.columns = [\"nome_aluno\", \"disciplina_1\", \"disciplina_2\", \"disciplina_3\"]\n",
    "    return df\n",
    "\n",
    "test = preprocess_dfs(dfs)"
   ]
  },
  {
   "cell_type": "code",
   "execution_count": null,
   "id": "fifteen-cambridge",
   "metadata": {},
   "outputs": [],
   "source": []
  }
 ],
 "metadata": {
  "kernelspec": {
   "display_name": "Python 3",
   "language": "python",
   "name": "python3"
  },
  "language_info": {
   "codemirror_mode": {
    "name": "ipython",
    "version": 3
   },
   "file_extension": ".py",
   "mimetype": "text/x-python",
   "name": "python",
   "nbconvert_exporter": "python",
   "pygments_lexer": "ipython3",
   "version": "3.8.5"
  }
 },
 "nbformat": 4,
 "nbformat_minor": 5
}
